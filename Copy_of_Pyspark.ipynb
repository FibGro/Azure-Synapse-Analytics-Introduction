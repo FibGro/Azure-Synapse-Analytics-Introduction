{
  "nbformat": 4,
  "nbformat_minor": 0,
  "metadata": {
    "colab": {
      "provenance": [],
      "authorship_tag": "ABX9TyMt57i0tYey2GYFnnf+5wjv",
      "include_colab_link": true
    },
    "kernelspec": {
      "name": "python3",
      "display_name": "Python 3"
    },
    "language_info": {
      "name": "python"
    }
  },
  "cells": [
    {
      "cell_type": "markdown",
      "metadata": {
        "id": "view-in-github",
        "colab_type": "text"
      },
      "source": [
        "<a href=\"https://colab.research.google.com/github/FibGro/Azure-Synapse-Analytics-Introduction/blob/main/Copy_of_Pyspark.ipynb\" target=\"_parent\"><img src=\"https://colab.research.google.com/assets/colab-badge.svg\" alt=\"Open In Colab\"/></a>"
      ]
    },
    {
      "cell_type": "code",
      "execution_count": null,
      "metadata": {
        "colab": {
          "base_uri": "https://localhost:8080/"
        },
        "id": "WjPWRYSJojfh",
        "outputId": "fdff1db9-aa5f-4e8d-f14a-4a167771f189"
      },
      "outputs": [
        {
          "output_type": "stream",
          "name": "stdout",
          "text": [
            "Collecting pyspark\n",
            "  Downloading pyspark-3.5.1.tar.gz (317.0 MB)\n",
            "\u001b[2K     \u001b[90m━━━━━━━━━━━━━━━━━━━━━━━━━━━━━━━━━━━━━━━━\u001b[0m \u001b[32m317.0/317.0 MB\u001b[0m \u001b[31m3.1 MB/s\u001b[0m eta \u001b[36m0:00:00\u001b[0m\n",
            "\u001b[?25h  Preparing metadata (setup.py) ... \u001b[?25l\u001b[?25hdone\n",
            "Requirement already satisfied: py4j==0.10.9.7 in /usr/local/lib/python3.10/dist-packages (from pyspark) (0.10.9.7)\n",
            "Building wheels for collected packages: pyspark\n",
            "  Building wheel for pyspark (setup.py) ... \u001b[?25l\u001b[?25hdone\n",
            "  Created wheel for pyspark: filename=pyspark-3.5.1-py2.py3-none-any.whl size=317488491 sha256=7eb7c97162870e2e66e17338a44e34870fa6700ad105c0cf0480c47fdeed1861\n",
            "  Stored in directory: /root/.cache/pip/wheels/80/1d/60/2c256ed38dddce2fdd93be545214a63e02fbd8d74fb0b7f3a6\n",
            "Successfully built pyspark\n",
            "Installing collected packages: pyspark\n",
            "Successfully installed pyspark-3.5.1\n"
          ]
        }
      ],
      "source": [
        "!pip install pyspark"
      ]
    },
    {
      "cell_type": "code",
      "source": [
        "from pyspark import SparkContext, SparkConf"
      ],
      "metadata": {
        "id": "t2HRghYZo3KZ"
      },
      "execution_count": null,
      "outputs": []
    },
    {
      "cell_type": "code",
      "source": [
        "# Option 1: Reuse the existing SparkContext\n",
        "# Just continue using the 'sc' object for your Spark operations\n",
        "\n",
        "# Option 2: Stop the existing SparkContext and create a new one\n",
        "  # Stop the existing SparkContext In the line of code conf = SparkConf().setAppName('testApp1').setMaster('local[*]'), you are configuring the settings for a Spark application. Let's break it down:\n",
        "\n",
        "\n",
        "\n",
        "#SparkConf(): This creates a new SparkConf object, which is used to store configuration parameters for your Spark application.\n",
        "#.setAppName('testApp1'): This sets the name of your Spark application to \"testApp1\". This name will be visible in the Spark UI and logs, helping you identify your application.\n",
        "#.setMaster('local[*]'): This configures your Spark application to run in local mode, utilizing all available cores on your machine. The asterisk (*) indicates that Spark should use all available cores.\n",
        "sc.stop()\n",
        "\n",
        "conf = SparkConf().setAppName('testApp1').setMaster('local[*]')\n",
        "sc = SparkContext(conf=conf)\n",
        "\n"
      ],
      "metadata": {
        "id": "jRofJLjgqk-N"
      },
      "execution_count": null,
      "outputs": []
    },
    {
      "cell_type": "code",
      "source": [
        "print(sc)"
      ],
      "metadata": {
        "colab": {
          "base_uri": "https://localhost:8080/"
        },
        "id": "9V7D9KzDq-pF",
        "outputId": "476fb90d-8008-4d7a-cc84-64b5ab7cc75b"
      },
      "execution_count": null,
      "outputs": [
        {
          "output_type": "stream",
          "name": "stdout",
          "text": [
            "<SparkContext master=local[*] appName=testApp1>\n"
          ]
        }
      ]
    },
    {
      "cell_type": "code",
      "source": [
        "sc.defaultParallelism"
      ],
      "metadata": {
        "colab": {
          "base_uri": "https://localhost:8080/"
        },
        "id": "79H_Ib8Kr9iM",
        "outputId": "e042268d-214b-44b1-8929-f474d104b4d6"
      },
      "execution_count": null,
      "outputs": [
        {
          "output_type": "execute_result",
          "data": {
            "text/plain": [
              "2"
            ]
          },
          "metadata": {},
          "execution_count": 9
        }
      ]
    },
    {
      "cell_type": "code",
      "source": [
        "# RDD Programming Guide\n",
        "# Create RDD and Basic Operators\n",
        "\n",
        "# Generate random data\n",
        "\n",
        "import random\n",
        "randomlist = random.sample(range(0,40),10)\n",
        "randomlist"
      ],
      "metadata": {
        "colab": {
          "base_uri": "https://localhost:8080/"
        },
        "id": "ApxjyxkhPC8p",
        "outputId": "b46aa44f-ffbe-4426-a8a6-1e280e68a5d1"
      },
      "execution_count": null,
      "outputs": [
        {
          "output_type": "execute_result",
          "data": {
            "text/plain": [
              "[11, 16, 24, 23, 37, 4, 35, 32, 31, 25]"
            ]
          },
          "metadata": {},
          "execution_count": 13
        }
      ]
    },
    {
      "cell_type": "code",
      "source": [
        "# Create RDD : send daata to Spark\n",
        "\n",
        "rdd1 = sc.parallelize(randomlist, 4)\n"
      ],
      "metadata": {
        "id": "JWuP6uGuRJLE"
      },
      "execution_count": null,
      "outputs": []
    },
    {
      "cell_type": "code",
      "source": [
        "# Action : return all the element, if it big data then can be used take()\n",
        "\n",
        "rdd1.collect()"
      ],
      "metadata": {
        "colab": {
          "base_uri": "https://localhost:8080/"
        },
        "id": "0jhL2HdYRjtM",
        "outputId": "8efe2a3e-98ca-47c8-a4e8-86a073fd92c0"
      },
      "execution_count": null,
      "outputs": [
        {
          "output_type": "execute_result",
          "data": {
            "text/plain": [
              "[11, 16, 24, 23, 37, 4, 35, 32, 31, 25]"
            ]
          },
          "metadata": {},
          "execution_count": 16
        }
      ]
    },
    {
      "cell_type": "code",
      "source": [
        "# Data distribution in partition :\n",
        "\n",
        "rdd1.getNumPartitions()\n",
        "rdd1.glom().collect()"
      ],
      "metadata": {
        "colab": {
          "base_uri": "https://localhost:8080/"
        },
        "id": "aTU1KJu8Rj5p",
        "outputId": "2a727544-1efa-494f-cf85-6d030a1345a3"
      },
      "execution_count": null,
      "outputs": [
        {
          "output_type": "execute_result",
          "data": {
            "text/plain": [
              "[[11, 16], [24, 23], [37, 4], [35, 32, 31, 25]]"
            ]
          },
          "metadata": {},
          "execution_count": 18
        }
      ]
    },
    {
      "cell_type": "code",
      "source": [
        "print(\"The two partition :\" , rdd1.glom().take(2))"
      ],
      "metadata": {
        "colab": {
          "base_uri": "https://localhost:8080/"
        },
        "id": "MoSKob7wRkBP",
        "outputId": "4630d673-3a50-40a8-db21-a0cfef7417ac"
      },
      "execution_count": null,
      "outputs": [
        {
          "output_type": "stream",
          "name": "stdout",
          "text": [
            "The two partition : [[11, 16], [24, 23]]\n"
          ]
        }
      ]
    },
    {
      "cell_type": "code",
      "source": [
        "print(\"The last partition : \", rdd1.glom().collect()[3])"
      ],
      "metadata": {
        "colab": {
          "base_uri": "https://localhost:8080/"
        },
        "id": "jQ_dw_HaRkEk",
        "outputId": "a6f27ef8-f8b1-4ae5-ac10-17acf221d6ae"
      },
      "execution_count": null,
      "outputs": [
        {
          "output_type": "stream",
          "name": "stdout",
          "text": [
            "The last partition :  [35, 32, 31, 25]\n"
          ]
        }
      ]
    },
    {
      "cell_type": "code",
      "source": [
        "rdd1.count()"
      ],
      "metadata": {
        "colab": {
          "base_uri": "https://localhost:8080/"
        },
        "id": "jTKLyJvaRkHY",
        "outputId": "120edc45-f2b3-4135-c71e-8df4c58dfbb0"
      },
      "execution_count": null,
      "outputs": [
        {
          "output_type": "execute_result",
          "data": {
            "text/plain": [
              "10"
            ]
          },
          "metadata": {},
          "execution_count": 24
        }
      ]
    },
    {
      "cell_type": "code",
      "source": [
        "rdd1.first()"
      ],
      "metadata": {
        "colab": {
          "base_uri": "https://localhost:8080/"
        },
        "id": "DEc-s531RkJ9",
        "outputId": "165d4e1b-628d-4cda-a417-8225cb4a7808"
      },
      "execution_count": null,
      "outputs": [
        {
          "output_type": "execute_result",
          "data": {
            "text/plain": [
              "11"
            ]
          },
          "metadata": {},
          "execution_count": 25
        }
      ]
    },
    {
      "cell_type": "code",
      "source": [
        "rdd1.top(2)"
      ],
      "metadata": {
        "colab": {
          "base_uri": "https://localhost:8080/"
        },
        "id": "gkbiGg45RkNL",
        "outputId": "01cecaa6-66f7-4c98-d92d-eeac24dacb30"
      },
      "execution_count": null,
      "outputs": [
        {
          "output_type": "execute_result",
          "data": {
            "text/plain": [
              "[37, 35]"
            ]
          },
          "metadata": {},
          "execution_count": 29
        }
      ]
    },
    {
      "cell_type": "code",
      "source": [
        "# Using the distinct() transformation and action of collect() to read the data\n",
        "rdd1.distinct().collect()"
      ],
      "metadata": {
        "colab": {
          "base_uri": "https://localhost:8080/"
        },
        "id": "TqaM-Wq6TTyp",
        "outputId": "daf15677-97ea-4e9f-8870-7b6309738822"
      },
      "execution_count": null,
      "outputs": [
        {
          "output_type": "execute_result",
          "data": {
            "text/plain": [
              "[16, 24, 4, 32, 37, 25, 11, 23, 35, 31]"
            ]
          },
          "metadata": {},
          "execution_count": 31
        }
      ]
    },
    {
      "cell_type": "code",
      "source": [
        "# Using map transformation and action used the glom().collect()\n",
        "def myfunc(item):\n",
        "  return (item +1) * 3\n",
        "\n",
        "rdd_map = rdd1.map(myfunc)\n",
        "rdd_map.glom().collect()"
      ],
      "metadata": {
        "colab": {
          "base_uri": "https://localhost:8080/"
        },
        "id": "lsqJQYi6TUBw",
        "outputId": "cf2fbfd9-5feb-48d4-e508-1f554934c817"
      },
      "execution_count": null,
      "outputs": [
        {
          "output_type": "execute_result",
          "data": {
            "text/plain": [
              "[[36, 51], [75, 72], [114, 15], [108, 99, 96, 78]]"
            ]
          },
          "metadata": {},
          "execution_count": 34
        }
      ]
    },
    {
      "cell_type": "code",
      "source": [],
      "metadata": {
        "id": "CUSyxbM6TUFB"
      },
      "execution_count": null,
      "outputs": []
    },
    {
      "cell_type": "code",
      "source": [],
      "metadata": {
        "id": "RMTTvUQ4TUIJ"
      },
      "execution_count": null,
      "outputs": []
    },
    {
      "cell_type": "code",
      "source": [],
      "metadata": {
        "id": "nRI8yKDqTUKd"
      },
      "execution_count": null,
      "outputs": []
    },
    {
      "cell_type": "code",
      "source": [],
      "metadata": {
        "id": "0rJ0hL0eTUMp"
      },
      "execution_count": null,
      "outputs": []
    },
    {
      "cell_type": "code",
      "source": [],
      "metadata": {
        "id": "7LtgEaNdTUPS"
      },
      "execution_count": null,
      "outputs": []
    },
    {
      "cell_type": "code",
      "source": [],
      "metadata": {
        "id": "UIjkIdyOTUR7"
      },
      "execution_count": null,
      "outputs": []
    }
  ]
}